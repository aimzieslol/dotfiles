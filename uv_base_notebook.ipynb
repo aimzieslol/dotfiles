{
  "nbformat": 4,
  "nbformat_minor": 0,
  "metadata": {
    "colab": {
      "private_outputs": true,
      "provenance": [],
      "authorship_tag": "ABX9TyPDusW0i62wnSdMDEGPrfVE",
      "include_colab_link": true
    },
    "kernelspec": {
      "name": "python3",
      "display_name": "Python 3"
    },
    "language_info": {
      "name": "python"
    }
  },
  "cells": [
    {
      "cell_type": "markdown",
      "metadata": {
        "id": "view-in-github",
        "colab_type": "text"
      },
      "source": [
        "<a href=\"https://colab.research.google.com/github/aimzieslol/dotfiles/blob/main/uv_base_notebook.ipynb\" target=\"_parent\"><img src=\"https://colab.research.google.com/assets/colab-badge.svg\" alt=\"Open In Colab\"/></a>"
      ]
    },
    {
      "cell_type": "markdown",
      "source": [
        "# **WTH?**\n",
        "\n",
        "I seem to setup the same junk all the time in my Colab notebooks. Use this as the base when you make a new notebook and you can have aaaaall of the stuff you commonly use.\n",
        "\n",
        "* Install `uv`\n",
        "* Get logging working using `loguru` sending stuff to the `rich` console."
      ],
      "metadata": {
        "id": "2ikw1Vwgoq1A"
      }
    },
    {
      "cell_type": "code",
      "execution_count": null,
      "metadata": {
        "id": "Qa_1QYn3lGtF"
      },
      "outputs": [],
      "source": [
        "%pip install uv"
      ]
    },
    {
      "cell_type": "markdown",
      "source": [
        "### **sample_data**\n",
        "\n",
        "Get rid of the `sample_data` dir. I've never used it ... have you?"
      ],
      "metadata": {
        "id": "k3LTqavz0Jry"
      }
    },
    {
      "cell_type": "code",
      "source": [
        "!rm -Rf /content/sample_data"
      ],
      "metadata": {
        "id": "qlqv8STfpwsQ"
      },
      "execution_count": null,
      "outputs": []
    },
    {
      "cell_type": "markdown",
      "source": [
        "### **uv environment variables**\n",
        "\n",
        "\n",
        "This sets up a couple of environment variables for `uv`. To avoid passing the `--system` argument all the time I can set `UV_SYSTEM_PYTHON` to `true`. The reason I do this is because it's much easier to just use Colab's pre-existing Python environment than setting up a `venv`.\n",
        "\n",
        "I also turn off the progress bar because it gets annoying in a notebook."
      ],
      "metadata": {
        "id": "mkWGBaPh0XG3"
      }
    },
    {
      "cell_type": "code",
      "source": [
        "import os\n",
        "\n",
        "os.environ['UV_SYSTEM_PYTHON'] = \"true\"\n",
        "os.environ['UV_NO_PROGRESS'] = \"true\""
      ],
      "metadata": {
        "id": "f_6n9jMfy8zB"
      },
      "execution_count": null,
      "outputs": []
    },
    {
      "cell_type": "markdown",
      "source": [
        "### **rich console**\n",
        "\n",
        "The `rich` module is a pretty cool way to pretty print and inspect things. The `console` module is to help with the `loguru` `sink` for colors and stuffs."
      ],
      "metadata": {
        "id": "Fgl492L93yaQ"
      }
    },
    {
      "cell_type": "code",
      "source": [
        "from rich.console import Console\n",
        "notebook_console = Console()\n",
        "\n",
        "with notebook_console.status(\"Installing uv\", spinner=\"material\"):\n",
        "    !uv pip install loguru"
      ],
      "metadata": {
        "id": "TciGzHqAlXv1"
      },
      "execution_count": null,
      "outputs": []
    },
    {
      "cell_type": "markdown",
      "source": [
        "### **logging**\n",
        "\n",
        "I use `loguru` ALL. THE. TIME. Might as well just have it handy forever."
      ],
      "metadata": {
        "id": "oLxNGMFJJ89E"
      }
    },
    {
      "cell_type": "code",
      "source": [
        "from loguru import logger as log\n",
        "import logging\n",
        "\n",
        "import logging\n",
        "from loguru import logger\n",
        "\n",
        "class InterceptHandler(logging.Handler):\n",
        "    def emit(self, record: logging.LogRecord) -> None:\n",
        "        import inspect\n",
        "\n",
        "        level: str | int\n",
        "\n",
        "        try:\n",
        "            level = logger.level(record.levelname).name\n",
        "        except ValueError:\n",
        "            level = record.levelno\n",
        "\n",
        "        # Find caller from where originated the logged message.\n",
        "        frame, depth = inspect.currentframe(), 0\n",
        "        while frame and (depth == 0 or frame.f_code.co_filename == logging.__file__):\n",
        "            frame = frame.f_back\n",
        "            depth += 1\n",
        "\n",
        "        logger.opt(depth=depth, exception=record.exc_info).log(level, record.getMessage())\n",
        "\n",
        "def setup_logging():\n",
        "    from sys import stdout\n",
        "\n",
        "    log.remove()\n",
        "\n",
        "    log.add(sink=stdout, format=\"<level>{level:<8.8}</>{line:04}:{function:<15.15s}{message}\", level=\"DEBUG\")\n",
        "    log.info(\"debug level setup\")\n",
        "\n",
        "    logging.basicConfig(handlers=[InterceptHandler()], level=0, force=True)\n",
        "\n",
        "setup_logging()"
      ],
      "metadata": {
        "id": "zsQj471blogz"
      },
      "execution_count": null,
      "outputs": []
    },
    {
      "cell_type": "markdown",
      "source": [
        "### **THAT'S IT**\n",
        "\n",
        "OK, that's it. Put your other junk below here."
      ],
      "metadata": {
        "id": "KntL19Jd7vZ0"
      }
    },
    {
      "cell_type": "code",
      "source": [],
      "metadata": {
        "id": "YX9xVsWHKH8d"
      },
      "execution_count": null,
      "outputs": []
    }
  ]
}