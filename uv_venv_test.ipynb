{
  "nbformat": 4,
  "nbformat_minor": 0,
  "metadata": {
    "colab": {
      "private_outputs": true,
      "provenance": [],
      "authorship_tag": "ABX9TyNxZ9XbUGnyRuKLX37UXV2h",
      "include_colab_link": true
    },
    "kernelspec": {
      "name": "python3",
      "display_name": "Python 3"
    },
    "language_info": {
      "name": "python"
    }
  },
  "cells": [
    {
      "cell_type": "markdown",
      "metadata": {
        "id": "view-in-github",
        "colab_type": "text"
      },
      "source": [
        "<a href=\"https://colab.research.google.com/github/aimzieslol/dotfiles/blob/main/uv_venv_test.ipynb\" target=\"_parent\"><img src=\"https://colab.research.google.com/assets/colab-badge.svg\" alt=\"Open In Colab\"/></a>"
      ]
    },
    {
      "cell_type": "code",
      "execution_count": null,
      "metadata": {
        "id": "Qa_1QYn3lGtF"
      },
      "outputs": [],
      "source": [
        "%pip install uv"
      ]
    },
    {
      "cell_type": "code",
      "source": [
        "!uv init\n",
        "!uv venv"
      ],
      "metadata": {
        "id": "5RKOsQc9lIP5"
      },
      "execution_count": null,
      "outputs": []
    },
    {
      "cell_type": "code",
      "source": [
        "import os\n",
        "\n",
        "os.environ['VIRTUAL_ENV'] = '/content/.venv'"
      ],
      "metadata": {
        "id": "uvF9OuKAlO1c"
      },
      "execution_count": null,
      "outputs": []
    },
    {
      "cell_type": "code",
      "source": [
        "!uv pip install loguru"
      ],
      "metadata": {
        "id": "TciGzHqAlXv1"
      },
      "execution_count": null,
      "outputs": []
    },
    {
      "cell_type": "code",
      "source": [
        "import sys\n",
        "from rich import print\n",
        "\n",
        "sys.path.append('/content/.venv/lib/python3.10/site-packages')\n",
        "sys.path.append('/content/.venv/lib64/python3.10/site-packages')"
      ],
      "metadata": {
        "id": "aX5qFLfClZ0e"
      },
      "execution_count": null,
      "outputs": []
    },
    {
      "cell_type": "code",
      "source": [
        "from loguru import logger as log"
      ],
      "metadata": {
        "id": "zsQj471blogz"
      },
      "execution_count": null,
      "outputs": []
    },
    {
      "cell_type": "code",
      "source": [
        "import torch"
      ],
      "metadata": {
        "id": "sqNORXXflv06"
      },
      "execution_count": null,
      "outputs": []
    },
    {
      "cell_type": "code",
      "source": [
        "os.mkdir('/content/local_stuff')"
      ],
      "metadata": {
        "id": "Jm3JoaS_ly1z"
      },
      "execution_count": null,
      "outputs": []
    },
    {
      "cell_type": "code",
      "source": [
        "with open('/content/local_stuff/__init__.py', 'w') as f:\n",
        "  f.write('')"
      ],
      "metadata": {
        "id": "5LgoyGeSm9RG"
      },
      "execution_count": null,
      "outputs": []
    },
    {
      "cell_type": "code",
      "source": [
        "sys.path.append('/content/local_stuff')"
      ],
      "metadata": {
        "id": "I32yDvR0nrqO"
      },
      "execution_count": null,
      "outputs": []
    },
    {
      "cell_type": "code",
      "source": [
        "from importme import setup_logger"
      ],
      "metadata": {
        "id": "ExTK_FdYnD84"
      },
      "execution_count": null,
      "outputs": []
    },
    {
      "cell_type": "code",
      "source": [
        "setup_logger()"
      ],
      "metadata": {
        "id": "KjsHronlnnkC"
      },
      "execution_count": null,
      "outputs": []
    },
    {
      "cell_type": "code",
      "source": [],
      "metadata": {
        "id": "7raGDBsAnuOI"
      },
      "execution_count": null,
      "outputs": []
    }
  ]
}